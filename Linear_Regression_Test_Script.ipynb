{
  "nbformat": 4,
  "nbformat_minor": 0,
  "metadata": {
    "colab": {
      "provenance": []
    },
    "kernelspec": {
      "name": "python3",
      "display_name": "Python 3"
    },
    "language_info": {
      "name": "python"
    }
  },
  "cells": [
    {
      "cell_type": "code",
      "execution_count": 34,
      "metadata": {
        "id": "EzHy8rojltt-"
      },
      "outputs": [],
      "source": [
        "import numpy as np\n",
        "\n",
        "class MyLinearRegression:\n",
        "    def __init__(self):\n",
        "        self.weights = None\n",
        "        self.bias = 0.0\n",
        "\n",
        "    def predict(self, features):\n",
        "        if self.weights is None:\n",
        "            raise ValueError(\"Model has not been trained yet. Call train() first.\")\n",
        "        return np.dot(features, self.weights) + self.bias\n",
        "\n",
        "    def evaluate(self, features, true_values):\n",
        "        predictions = self.predict(features)\n",
        "        return np.mean((predictions - true_values) ** 2)\n",
        "\n",
        "    def train(self, features, true_values, learning_rate, epochs):\n",
        "        n = len(true_values)\n",
        "        features = np.array(features, dtype=float)\n",
        "        true_values = np.array(true_values, dtype=float)\n",
        "\n",
        "        if self.weights is None:\n",
        "            num_features = features.shape[1]\n",
        "            self.weights = np.random.randn(num_features) * 0.01\n",
        "\n",
        "        for _ in range(epochs):\n",
        "            predictions = self.predict(features)\n",
        "            error = predictions - true_values\n",
        "\n",
        "            gradient_w = (2/n) * np.dot(features.T, error)\n",
        "            gradient_b = (2/n) * np.sum(error)\n",
        "\n",
        "            self.weights -= learning_rate * gradient_w\n",
        "            self.bias -= learning_rate * gradient_b\n"
      ]
    },
    {
      "cell_type": "code",
      "source": [
        "import pandas as pd\n",
        "from sklearn.linear_model import LinearRegression\n",
        "\n",
        "\n",
        "data = pd.read_csv(\"car_price_dataset.csv\")\n",
        "features, true_values = data[[\"Mileage\", \"Year\"]].values, data[\"Price\"].values\n",
        "\n",
        "\n",
        "features = np.array(features, dtype=float)\n",
        "means = np.mean(features, axis=0)\n",
        "stds = np.std(features, axis=0)\n",
        "features_scaled = (features - means) / stds\n",
        "\n",
        "\n",
        "my_linear_regression = MyLinearRegression()\n",
        "my_linear_regression.train(features_scaled, true_values, learning_rate=0.01, epochs=1000)\n",
        "\n",
        "mse = my_linear_regression.evaluate(features_scaled, true_values)\n",
        "print(\"MSE:\", mse)\n",
        "\n",
        "\n",
        "model = LinearRegression()\n",
        "model.fit(features_scaled, true_values)\n",
        "\n",
        "existing_data_point = features[1]\n",
        "existing_data_point_scaled = (existing_data_point - means) / stds\n",
        "prediction1 = my_linear_regression.predict(existing_data_point_scaled)\n",
        "print(\"Predicted price:\", prediction1, \"Actual:\", true_values[1])\n",
        "\n",
        "existing_data_point = features[0]\n",
        "existing_data_point_scaled = (existing_data_point - means) / stds\n",
        "prediction2 = my_linear_regression.predict(existing_data_point_scaled)\n",
        "print(\"Predicted price:\", prediction2, \"Actual:\", true_values[0])\n",
        "\n",
        "existing_data_point = features[16]\n",
        "existing_data_point_scaled = (existing_data_point - means) / stds\n",
        "prediction3 = my_linear_regression.predict(existing_data_point_scaled)\n",
        "print(\"Predicted price:\", prediction3, \"Actual:\", true_values[16])\n",
        "\n",
        "new_data_point = np.array([60000, 2015])\n",
        "new_data_point_scaled = (new_data_point - means) / stds\n",
        "prediction4 = my_linear_regression.predict(new_data_point_scaled)\n",
        "print(\"Predicted price:\", prediction4, \"Scikit-Learn:\", model.predict(new_data_point_scaled.reshape(1, -1)))\n",
        "\n",
        "new_data_points = np.array([[60000, 2015], [70000, 2018]])\n",
        "new_data_points_scaled = (new_data_points - means) / stds\n",
        "prediction5 = my_linear_regression.predict(new_data_points_scaled)\n",
        "print(\"Predicted prices:\", prediction5, \"Scikit-Learn:\", model.predict(new_data_points_scaled))"
      ],
      "metadata": {
        "colab": {
          "base_uri": "https://localhost:8080/"
        },
        "id": "PY9vkzbCoNMd",
        "outputId": "a515df36-f24b-4004-e2f6-aa51130e141f"
      },
      "execution_count": 37,
      "outputs": [
        {
          "output_type": "stream",
          "name": "stdout",
          "text": [
            "MSE: 2502589.034663308\n",
            "Predicted price: 11840.536815602598 Actual: 12092\n",
            "Predicted price: 8589.515459013495 Actual: 8501\n",
            "Predicted price: 12683.90478943929 Actual: 14837\n",
            "Predicted price: 11653.403047612568 Scikit-Learn: [11653.40306698]\n",
            "Predicted prices: [11653.40304761 12350.97877629] Scikit-Learn: [11653.40306698 12350.97879679]\n"
          ]
        }
      ]
    }
  ]
}